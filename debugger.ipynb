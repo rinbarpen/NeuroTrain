{
 "cells": [
  {
   "cell_type": "code",
   "execution_count": 1,
   "id": "893f9933",
   "metadata": {},
   "outputs": [
    {
     "name": "stdout",
     "output_type": "stream",
     "text": [
      "Looking in indexes: https://pypi.mirrors.ustc.edu.cn/simple\n",
      "Collecting dowhen\n",
      "  Downloading https://mirrors.ustc.edu.cn/pypi/packages/1b/5a/faf4ca6fe29f3cfcc7c730245e47112d236e8f3bd3b23666975c3ddc287f/dowhen-0.1.0-py3-none-any.whl (19 kB)\n",
      "Installing collected packages: dowhen\n",
      "Successfully installed dowhen-0.1.0\n",
      "Note: you may need to restart the kernel to use updated packages.\n"
     ]
    },
    {
     "name": "stderr",
     "output_type": "stream",
     "text": [
      "WARNING: Ignoring invalid distribution ~umpy (d:\\Program\\Anaconda\\envs\\py312\\Lib\\site-packages)\n",
      "WARNING: Ignoring invalid distribution ~umpy (d:\\Program\\Anaconda\\envs\\py312\\Lib\\site-packages)\n",
      "WARNING: Ignoring invalid distribution ~umpy (d:\\Program\\Anaconda\\envs\\py312\\Lib\\site-packages)\n"
     ]
    }
   ],
   "source": [
    "%pip install dowhen"
   ]
  },
  {
   "cell_type": "code",
   "execution_count": null,
   "id": "85f40407",
   "metadata": {},
   "outputs": [],
   "source": [
    "import pdb\n",
    "from dowhen import bp, do, when"
   ]
  }
 ],
 "metadata": {
  "kernelspec": {
   "display_name": "py312",
   "language": "python",
   "name": "python3"
  },
  "language_info": {
   "codemirror_mode": {
    "name": "ipython",
    "version": 3
   },
   "file_extension": ".py",
   "mimetype": "text/x-python",
   "name": "python",
   "nbconvert_exporter": "python",
   "pygments_lexer": "ipython3",
   "version": "3.12.5"
  }
 },
 "nbformat": 4,
 "nbformat_minor": 5
}
