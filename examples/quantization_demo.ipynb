{
  "cells": [
    {
      "cell_type": "markdown",
      "metadata": {},
      "source": [
        "# NeuroTrain量化工具使用示例\n",
        "\n",
        "本notebook展示了如何使用NeuroTrain框架的量化功能，包括多种量化方法和效果分析。\n"
      ]
    },
    {
      "cell_type": "code",
      "execution_count": null,
      "metadata": {},
      "outputs": [],
      "source": [
        "import torch\n",
        "import torch.nn as nn\n",
        "import matplotlib.pyplot as plt\n",
        "import numpy as np\n",
        "from pathlib import Path\n",
        "import logging\n",
        "\n",
        "# 设置中文字体\n",
        "plt.rcParams[\"font.sans-serif\"] = [\"DejaVu Sans\"]\n",
        "plt.rcParams[\"axes.unicode_minus\"] = False\n",
        "\n",
        "# 设置日志\n",
        "logging.basicConfig(level=logging.INFO)\n",
        "logger = logging.getLogger(__name__)\n",
        "\n",
        "# 导入量化工具\n",
        "import sys\n",
        "\n",
        "sys.path.append(\"..\")\n",
        "from src.quantization import (\n",
        "    QuantizationConfig,\n",
        "    QuantizationManager,\n",
        "    QuantizationAnalyzer,\n",
        ")"
      ]
    },
    {
      "cell_type": "markdown",
      "metadata": {},
      "source": [
        "## 1. 创建示例模型和数据\n"
      ]
    },
    {
      "cell_type": "code",
      "execution_count": null,
      "metadata": {},
      "outputs": [],
      "source": [
        "class SimpleCNN(nn.Module):\n",
        "    def __init__(self, num_classes=10):\n",
        "        super().__init__()\n",
        "        self.features = nn.Sequential(\n",
        "            nn.Conv2d(3, 32, 3, padding=1),\n",
        "            nn.ReLU(),\n",
        "            nn.MaxPool2d(2),\n",
        "            nn.Conv2d(32, 64, 3, padding=1),\n",
        "            nn.ReLU(),\n",
        "            nn.MaxPool2d(2),\n",
        "            nn.Conv2d(64, 128, 3, padding=1),\n",
        "            nn.ReLU(),\n",
        "            nn.AdaptiveAvgPool2d((1, 1)),\n",
        "        )\n",
        "        self.classifier = nn.Sequential(\n",
        "            nn.Flatten(),\n",
        "            nn.Linear(128, 64),\n",
        "            nn.ReLU(),\n",
        "            nn.Dropout(0.5),\n",
        "            nn.Linear(64, num_classes),\n",
        "        )\n",
        "\n",
        "    def forward(self, x):\n",
        "        x = self.features(x)\n",
        "        x = self.classifier(x)\n",
        "        return x\n",
        "\n",
        "\n",
        "# 创建模型\n",
        "model = SimpleCNN()\n",
        "print(f\"模型创建完成，总参数: {sum(p.numel() for p in model.parameters()):,}\")"
      ]
    },
    {
      "cell_type": "markdown",
      "metadata": {},
      "source": [
        "## 2. 动态量化示例\n"
      ]
    },
    {
      "cell_type": "code",
      "execution_count": null,
      "metadata": {},
      "outputs": [],
      "source": [
        "# 创建动态量化配置\n",
        "dynamic_config = QuantizationConfig(method=\"dynamic\", dtype=\"qint8\")\n",
        "\n",
        "# 应用动态量化\n",
        "manager = QuantizationManager(dynamic_config)\n",
        "quantized_model = manager.quantize_model(model)\n",
        "\n",
        "# 获取模型信息\n",
        "size_info = manager.get_model_size_info(quantized_model)\n",
        "print(f\"动态量化完成!\")\n",
        "print(f\"模型大小: {size_info['model_size_mb']:.2f}MB\")\n",
        "print(f\"量化方法: {size_info['quantization_method']}\")"
      ]
    },
    {
      "cell_type": "markdown",
      "metadata": {},
      "source": [
        "## 3. 量化效果分析\n"
      ]
    }
  ],
  "metadata": {
    "language_info": {
      "name": "python"
    }
  },
  "nbformat": 4,
  "nbformat_minor": 2
}
