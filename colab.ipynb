{
 "cells": [
  {
   "cell_type": "code",
   "execution_count": null,
   "metadata": {},
   "outputs": [],
   "source": [
    "from google.colab import drive\n",
    "drive.mount('/content/drive')"
   ]
  },
  {
   "cell_type": "code",
   "execution_count": null,
   "metadata": {},
   "outputs": [],
   "source": [
    "from pathlib import Path\n",
    "\n",
    "import logging\n",
    "from torch import nn\n",
    "import warnings\n",
    "\n",
    "warnings.filterwarnings(\"ignore\")\n",
    "\n",
    "from src.config import get_config, dump_config, is_predict, is_train, is_test\n",
    "from src.options import parse_args\n",
    "from src.engine import Trainer, Tester, Predictor\n",
    "from src.models import get_model\n",
    "from src.utils import (\n",
    "    get_train_tools,\n",
    "    get_train_valid_test_dataloader,\n",
    "    load_model,\n",
    "    load_model_ext,\n",
    "    prepare_logger,\n",
    "    set_seed,\n",
    "    summary_model_info,\n",
    ")\n",
    "from src.utils import CombineCriterion, DiceLoss"
   ]
  },
  {
   "cell_type": "code",
   "execution_count": 4,
   "metadata": {},
   "outputs": [],
   "source": [
    "parse_args()"
   ]
  },
  {
   "cell_type": "markdown",
   "metadata": {},
   "source": [
    "## set config"
   ]
  },
  {
   "cell_type": "code",
   "execution_count": null,
   "metadata": {},
   "outputs": [],
   "source": [
    "##\n",
    "c = get_config()\n",
    "input_size = (1, 512, 512)"
   ]
  },
  {
   "cell_type": "markdown",
   "metadata": {},
   "source": [
    "## train|test|predict"
   ]
  },
  {
   "cell_type": "code",
   "execution_count": null,
   "metadata": {},
   "outputs": [],
   "source": [
    "prepare_logger()\n",
    "if c[\"seed\"] >= 0:\n",
    "    set_seed(c[\"seed\"])\n",
    "device = c[\"device\"]\n",
    "\n",
    "output_dir = Path(c[\"output_dir\"]) / c[\"task\"] / c[\"run_id\"]\n",
    "train_dir = output_dir / \"train\"\n",
    "test_dir = output_dir / \"test\"\n",
    "predict_dir = output_dir / \"predict\"\n",
    "output_dir.mkdir(parents=True, exist_ok=True)\n",
    "\n",
    "is_continue_mode = False  # use this mode if encountering crash while training\n",
    "\n",
    "model = get_model(c[\"model\"][\"name\"], c[\"model\"][\"config\"])\n",
    "if c[\"model\"][\"pretained\"] != \"\":\n",
    "    model_path = Path(c[\"model\"][\"pretained\"])\n",
    "    model_params = load_model(model_path, device)\n",
    "    logging.info(f\"Load model: {model_path}\")\n",
    "    model.load_state_dict(model_params)\n",
    "\n",
    "if c[\"model\"][\"continue_checkpoint\"] != \"\":\n",
    "    model_path = Path(c[\"model\"][\"continue_checkpoint\"])\n",
    "    model_params = load_model(model_path, device)\n",
    "    logging.info(f\"Load model: {model_path}, Now is in continue mode\")\n",
    "    model.load_state_dict(model_params)\n",
    "    is_continue_mode = True\n",
    "\n",
    "train_loader, valid_loader, test_loader = get_train_valid_test_dataloader()\n",
    "if is_train():\n",
    "    train_dir.mkdir()\n",
    "    dump_config(train_dir / \"config.json\")\n",
    "    dump_config(train_dir / \"config.toml\")\n",
    "    dump_config(train_dir / \"config.yaml\")\n",
    "    logger = logging.getLogger(\"train\")\n",
    "    logger.info(\n",
    "        f\"Dumping config[.json|.yaml|.toml] to the {train_dir}/config[.json|.yaml|.toml]\"\n",
    "    )\n",
    "\n",
    "    finished_epoch = 0\n",
    "    tools = get_train_tools(model)\n",
    "    optimizer = tools[\"optimizer\"]\n",
    "    lr_scheduler = tools[\"lr_scheduler\"]\n",
    "    scaler = tools[\"scaler\"]\n",
    "    criterion = CombineCriterion([nn.BCEWithLogitsLoss(), DiceLoss()])  # Loss\n",
    "\n",
    "    if is_continue_mode and c[\"model\"][\"continue_ext_checkpoint\"] != \"\":\n",
    "        model_ext_path = Path(c[\"model\"][\"continue_ext_checkpoint\"])\n",
    "        model_ext_params = load_model_ext(model_ext_path, device)\n",
    "        finished_epoch = model_ext_params[\"epoch\"]\n",
    "        logger.info(f\"Continue Train from {finished_epoch}\")\n",
    "\n",
    "        try:\n",
    "            optimizer.load_state_dict(model_ext_params[\"optimizer\"])\n",
    "            if lr_scheduler and model_ext_params[\"lr_scheduler\"]:\n",
    "                lr_scheduler.load_state_dict(model_ext_params[\"lr_scheduler\"])\n",
    "            if scaler and model_ext_params[\"scaler\"]:\n",
    "                scaler.load_state_dict(model_ext_params[\"scaler\"])\n",
    "        except Exception as e:\n",
    "            logger.error(f\"{e} WHILE LOADING EXT CHECKPOINT\")\n",
    "\n",
    "    handle = Trainer(train_dir, model)\n",
    "    handle.train(\n",
    "        num_epochs=c[\"train\"][\"epoch\"],\n",
    "        criterion=criterion,\n",
    "        optimizer=optimizer,\n",
    "        train_dataloader=train_loader,\n",
    "        valid_dataloader=valid_loader,\n",
    "        lr_scheduler=lr_scheduler,\n",
    "        early_stop=\"early_stopping\" in c[\"train\"],\n",
    "        last_epoch=finished_epoch,\n",
    "    )\n",
    "\n",
    "\n",
    "if is_test():\n",
    "    test_dir.mkdir()\n",
    "    dump_config(test_dir / \"config.json\")\n",
    "    dump_config(test_dir / \"config.yaml\")\n",
    "    dump_config(test_dir / \"config.toml\")\n",
    "    logger = logging.getLogger(\"test\")\n",
    "    logger.info(\n",
    "        f\"Dumping config[.json|.yaml|.toml] to the {test_dir}/config[.json|.yaml|.toml]\"\n",
    "    )\n",
    "\n",
    "    if is_train() and not is_continue_mode:\n",
    "        model_path = train_dir / \"weights\" / \"best.pt\"\n",
    "        model_params = load_model(model_path, device)\n",
    "        logger.info(f\"Load model: {model_path}\")\n",
    "        model.load_state_dict(model_params)\n",
    "\n",
    "    handle = Tester(test_dir, model)\n",
    "    handle.test(test_dataloader=test_loader)\n",
    "\n",
    "\n",
    "if is_predict():\n",
    "    predict_dir.mkdir()\n",
    "    dump_config(predict_dir / \"config.json\")\n",
    "    dump_config(predict_dir / \"config.toml\")\n",
    "    dump_config(predict_dir / \"config.yaml\")\n",
    "    logger = logging.getLogger(\"predict\")\n",
    "    logger.info(\n",
    "        f\"Dumping config[.json|.yaml|.toml] to the {predict_dir}/config[.json|.yaml|.toml]\"\n",
    "    )\n",
    "\n",
    "    if is_train() and not is_continue_mode:\n",
    "        model_path = train_dir / \"weights\" / \"best.pt\"\n",
    "        model_params = load_model(model_path, device)\n",
    "        logger.info(f\"Load model: {model_path}\")\n",
    "        model.load_state_dict(model_params)\n",
    "\n",
    "    handle = Predictor(predict_dir, model)\n",
    "    input_path = Path(c[\"predict\"][\"input\"])\n",
    "    if input_path.is_dir():\n",
    "        inputs = [filename for filename in input_path.iterdir()]\n",
    "        handle.predict(inputs, **c[\"predict\"][\"config\"])\n",
    "    else:\n",
    "        inputs = [input_path]\n",
    "        handle.predict(inputs, **c[\"predict\"][\"config\"])"
   ]
  },
  {
   "cell_type": "markdown",
   "metadata": {},
   "source": [
    "## summary"
   ]
  },
  {
   "cell_type": "code",
   "execution_count": null,
   "metadata": {},
   "outputs": [],
   "source": [
    "summary_model_info(model, input_size=input_size)"
   ]
  }
 ],
 "metadata": {
  "kernelspec": {
   "display_name": "neuro-train",
   "language": "python",
   "name": "python3"
  },
  "language_info": {
   "codemirror_mode": {
    "name": "ipython",
    "version": 3
   },
   "file_extension": ".py",
   "mimetype": "text/x-python",
   "name": "python",
   "nbconvert_exporter": "python",
   "pygments_lexer": "ipython3",
   "version": "3.10.16"
  }
 },
 "nbformat": 4,
 "nbformat_minor": 2
}
