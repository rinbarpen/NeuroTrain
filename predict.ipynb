{
 "cells": [
  {
   "cell_type": "code",
   "execution_count": null,
   "metadata": {},
   "outputs": [
    {
     "name": "stderr",
     "output_type": "stream",
     "text": [
      "d:\\Program\\Anaconda\\envs\\neuro-train\\lib\\site-packages\\torchvision\\io\\image.py:13: UserWarning: Failed to load image Python extension: '[WinError 127] 找不到指定的程序。'If you don't plan on using image functionality from `torchvision.io`, you can ignore this warning. Otherwise, there might be something wrong with your environment. Did you have `libjpeg` or `libpng` installed before building `torchvision` from source?\n",
      "  warn(\n",
      "d:\\Program\\Anaconda\\envs\\neuro-train\\lib\\site-packages\\tqdm\\auto.py:21: TqdmWarning: IProgress not found. Please update jupyter and ipywidgets. See https://ipywidgets.readthedocs.io/en/stable/user_install.html\n",
      "  from .autonotebook import tqdm as notebook_tqdm\n"
     ]
    }
   ],
   "source": [
    "from src.engine.predictor import Predictor\n",
    "from src.models.models import get_model\n",
    "from src.utils.timer import Timer\n",
    "from src.utils.util import summary_model_info"
   ]
  },
  {
   "cell_type": "code",
   "execution_count": null,
   "metadata": {},
   "outputs": [],
   "source": [
    "from pathlib import Path\n",
    "import torch\n",
    "from torch import nn\n",
    "import numpy as np\n",
    "from PIL import Image\n",
    "from tqdm import tqdm\n",
    "import rich\n",
    "from pprint import pp, pprint\n",
    "import json\n",
    "from src.utils.transform import get_transforms, VisionTransformersBuilder\n",
    "\n",
    "output_dir = Path(\"TEMP\")\n",
    "model_config = {}\n",
    "model = get_model(\"unet\", model_config)\n",
    "device = \"cuda\" if torch.cuda.is_available() else \"cpu\"\n",
    "\n",
    "\n",
    "def preprocess(input: Path) -> torch.Tensor:\n",
    "    image = Image.open(input).convert(\"L\")\n",
    "\n",
    "    builder = VisionTransformersBuilder()\n",
    "    transforms = builder.resize((512, 512)).to_pil_image().convert_image_dtype().build()\n",
    "\n",
    "    image_tensor = transforms(image).unsqueeze(0)\n",
    "    return image_tensor\n",
    "\n",
    "\n",
    "def postprocess(pred: torch.Tensor):\n",
    "    pred[pred >= 0.5] = 255\n",
    "    pred[pred < 0.5] = 0\n",
    "\n",
    "    pred = pred.squeeze(0).squeeze(0).type(torch.uint8)\n",
    "    return pred\n",
    "\n",
    "\n",
    "class Predictor:\n",
    "    def __init__(self, model: nn.Module):\n",
    "        model = model.to(device)\n",
    "        model.eval()\n",
    "        self.model = model\n",
    "        self.timer = Timer()\n",
    "\n",
    "    @torch.inference_mode()\n",
    "    def predict(self, inputs: list[Path]):\n",
    "        for input in tqdm(inputs, desc=\"Predicting...\"):\n",
    "\n",
    "            with self.timer.timeit(\"preprocess\"):\n",
    "                x = preprocess(input)\n",
    "\n",
    "            with self.timer.timeit(\"inference\"):\n",
    "                x = x.to(device)\n",
    "                pred = self.model(x)\n",
    "\n",
    "            with self.timer.timeit(\"postprocess\"):\n",
    "                pred = postprocess(pred).detach().cpu().numpy()\n",
    "\n",
    "        cost = self.timer.total_elapsed_time()\n",
    "        print(f\"Predicting had cost {cost}s, average: {cost / len(inputs)}s\")\n",
    "        all_cost = self.timer.all_elapsed_time()\n",
    "        rich.print_json(json.dumps(all_cost, indent=2))\n",
    "\n",
    "\n",
    "input_path = Path(\"xxx\")\n",
    "inputs = [input for input in input_path.iterdir() if \".png\" in input.suffix.lower()]\n",
    "predictor = Predictor(model)\n",
    "predictor.predict(inputs)\n",
    "summary_model_info(model, (1, 512, 512), device)"
   ]
  },
  {
   "cell_type": "code",
   "execution_count": null,
   "metadata": {},
   "outputs": [],
   "source": []
  }
 ],
 "metadata": {
  "kernelspec": {
   "display_name": "neuro-train",
   "language": "python",
   "name": "python3"
  },
  "language_info": {
   "codemirror_mode": {
    "name": "ipython",
    "version": 3
   },
   "file_extension": ".py",
   "mimetype": "text/x-python",
   "name": "python",
   "nbconvert_exporter": "python",
   "pygments_lexer": "ipython3",
   "version": "3.10.16"
  }
 },
 "nbformat": 4,
 "nbformat_minor": 2
}
